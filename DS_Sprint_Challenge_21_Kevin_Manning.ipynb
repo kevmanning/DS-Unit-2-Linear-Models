{
  "nbformat": 4,
  "nbformat_minor": 0,
  "metadata": {
    "colab": {
      "name": "DS_Sprint_Challenge_21_Kevin_Manning.ipynb",
      "provenance": [],
      "collapsed_sections": [],
      "include_colab_link": true
    },
    "kernelspec": {
      "display_name": "Python 3",
      "language": "python",
      "name": "python3"
    },
    "language_info": {
      "codemirror_mode": {
        "name": "ipython",
        "version": 3
      },
      "file_extension": ".py",
      "mimetype": "text/x-python",
      "name": "python",
      "nbconvert_exporter": "python",
      "pygments_lexer": "ipython3",
      "version": "3.8.5"
    }
  },
  "cells": [
    {
      "cell_type": "markdown",
      "metadata": {
        "id": "view-in-github",
        "colab_type": "text"
      },
      "source": [
        "<a href=\"https://colab.research.google.com/github/kevmanning/DS-Unit-2-Linear-Models/blob/master/DS_Sprint_Challenge_21_Kevin_Manning.ipynb\" target=\"_parent\"><img src=\"https://colab.research.google.com/assets/colab-badge.svg\" alt=\"Open In Colab\"/></a>"
      ]
    },
    {
      "cell_type": "markdown",
      "metadata": {
        "id": "VZf2akBaMjq8"
      },
      "source": [
        "Lambda School Data Science\n",
        "\n",
        "*Unit 2, Sprint 1*\n",
        "\n",
        "---\n",
        "\n",
        "👇 **Do not change the code in this cell.** If you're working in Google Colab, you can run this cell to install `category_encoders`."
      ]
    },
    {
      "cell_type": "code",
      "metadata": {
        "id": "T1J119ZNO7sQ"
      },
      "source": [
        "%%capture\n",
        "# If you're in Colab...\n",
        "import sys\n",
        "if 'google.colab' in sys.modules:\n",
        "    !pip install category_encoders==2.*"
      ],
      "execution_count": 1,
      "outputs": []
    },
    {
      "cell_type": "markdown",
      "metadata": {
        "id": "VZJbSlGGO7sS"
      },
      "source": [
        " \n",
        "# Sprint Challenge: Predicting Home Prices in Iowa 🏠\n",
        "\n",
        "The goal of this assignment is to build a regression model that can predict the sale price of a house in Aimes, Iowa.\n",
        "\n",
        "# Directions \n",
        "\n",
        "This notebook contains 12 tasks, which cover the material we've learned in this sprint. Here's a summary:\n",
        "\n",
        "- **Task 1:** Import training data.\n",
        "- **Task 2 (`stretch goal`):** Create scatter plot.\n",
        "- **Task 3:** Split data into feature matrix and target vector.\n",
        "- **Task 4:** Split data into training and validation sets.\n",
        "- **Task 5:** Establish baseline mean absolute error.\n",
        "- **Task 6:** Build and train linear regression model.\n",
        "- **Task 7:** Build and train ridge regression model.\n",
        "- **Task 8:** Calculate mean absolute error for training and validation sets.\n",
        "- **Task 9:** Calculate $R^2$ for validation set.\n",
        "- **Task 10:** Make predictions based on test set.\n",
        "- **Task 11 (`stretch goal`):** Get below 18,000 for test set MAE. \n",
        "- **Task 12 (`stretch goal`):** Plot model coefficients.\n",
        "\n",
        "For each task you should do the following:\n",
        "\n",
        "- Read the task instructions.\n",
        "- Write your code in the cell below the task. Delete the `raise NotImplementedError` before your start.\n",
        "- Run the testing cell below the task. If you get an error, read the error message and re-evaluate your code.\n",
        "\n",
        "**You should limit your code to the following libraries:**\n",
        "\n",
        "- `category_encoders`\n",
        "- `numpy`\n",
        "- `matplotlib`\n",
        "- `pandas`\n",
        "- `sklearn` \n",
        "\n",
        "# Tasks\n",
        "\n",
        "## I. Wrangle Data\n",
        "\n",
        "**Task 1:** Since real estate prices fluctuate over time, it's important to index the houses in this dataset using the year in which they were sold. First, load the dataset into a DataFrame named `df` and find the column that states the year sold. Next, modify the code below so that `Yr_Sold` column is parsed as a datetime object and set as the index."
      ]
    },
    {
      "cell_type": "code",
      "metadata": {
        "colab": {
          "base_uri": "https://localhost:8080/"
        },
        "id": "7ptoRG1lu7H4",
        "outputId": "2441a850-b1dc-4e8f-c84c-20002d8ea80a"
      },
      "source": [
        "'''T1: Import data into DataFrame `df`.'''\n",
        "import pandas as pd\n",
        "\n",
        "url_train = 'https://drive.google.com/uc?export=download&id=1tmYLQ1RwIgjI_d66PWnlXU-5D_VxtiQc'\n",
        "df = pd.read_csv(url_train)\n",
        "# YOUR CODE HERE\n",
        "\n",
        "import pandas as pd\n",
        "import numpy as np\n",
        "df.shape"
      ],
      "execution_count": 2,
      "outputs": [
        {
          "output_type": "execute_result",
          "data": {
            "text/plain": [
              "(2564, 47)"
            ]
          },
          "metadata": {
            "tags": []
          },
          "execution_count": 2
        }
      ]
    },
    {
      "cell_type": "code",
      "metadata": {
        "colab": {
          "base_uri": "https://localhost:8080/",
          "height": 213
        },
        "id": "FkJO_rcxPhdq",
        "outputId": "f66c31c3-83ca-4d99-9269-6efcc9f1ca30"
      },
      "source": [
        "df.sample(3)"
      ],
      "execution_count": 3,
      "outputs": [
        {
          "output_type": "execute_result",
          "data": {
            "text/html": [
              "<div>\n",
              "<style scoped>\n",
              "    .dataframe tbody tr th:only-of-type {\n",
              "        vertical-align: middle;\n",
              "    }\n",
              "\n",
              "    .dataframe tbody tr th {\n",
              "        vertical-align: top;\n",
              "    }\n",
              "\n",
              "    .dataframe thead th {\n",
              "        text-align: right;\n",
              "    }\n",
              "</style>\n",
              "<table border=\"1\" class=\"dataframe\">\n",
              "  <thead>\n",
              "    <tr style=\"text-align: right;\">\n",
              "      <th></th>\n",
              "      <th>Yr_Sold</th>\n",
              "      <th>1st_Flr_SF</th>\n",
              "      <th>Bedroom_AbvGr</th>\n",
              "      <th>Bldg_Type</th>\n",
              "      <th>Bsmt_Full_Bath</th>\n",
              "      <th>Bsmt_Half_Bath</th>\n",
              "      <th>Central_Air</th>\n",
              "      <th>Condition_1</th>\n",
              "      <th>Condition_2</th>\n",
              "      <th>Electrical</th>\n",
              "      <th>Exter_Cond</th>\n",
              "      <th>Exter_Qual</th>\n",
              "      <th>Exterior_1st</th>\n",
              "      <th>Exterior_2nd</th>\n",
              "      <th>Foundation</th>\n",
              "      <th>Full_Bath</th>\n",
              "      <th>Functional</th>\n",
              "      <th>Gr_Liv_Area</th>\n",
              "      <th>Half_Bath</th>\n",
              "      <th>Heating</th>\n",
              "      <th>Heating_QC</th>\n",
              "      <th>House_Style</th>\n",
              "      <th>Kitchen_AbvGr</th>\n",
              "      <th>Kitchen_Qual</th>\n",
              "      <th>Land_Contour</th>\n",
              "      <th>Land_Slope</th>\n",
              "      <th>Lot_Area</th>\n",
              "      <th>Lot_Config</th>\n",
              "      <th>Lot_Shape</th>\n",
              "      <th>MS_SubClass</th>\n",
              "      <th>MS_Zoning</th>\n",
              "      <th>Mas_Vnr_Type</th>\n",
              "      <th>Mo_Sold</th>\n",
              "      <th>Neighborhood</th>\n",
              "      <th>Overall_Cond</th>\n",
              "      <th>Overall_Qual</th>\n",
              "      <th>Paved_Drive</th>\n",
              "      <th>Roof_Matl</th>\n",
              "      <th>Roof_Style</th>\n",
              "      <th>SalePrice</th>\n",
              "      <th>Sale_Condition</th>\n",
              "      <th>Sale_Type</th>\n",
              "      <th>Street</th>\n",
              "      <th>TotRms_AbvGrd</th>\n",
              "      <th>Utilities</th>\n",
              "      <th>Year_Built</th>\n",
              "      <th>Year_Remod/Add</th>\n",
              "    </tr>\n",
              "  </thead>\n",
              "  <tbody>\n",
              "    <tr>\n",
              "      <th>1800</th>\n",
              "      <td>2007-01-01</td>\n",
              "      <td>738</td>\n",
              "      <td>3</td>\n",
              "      <td>1Fam</td>\n",
              "      <td>0.0</td>\n",
              "      <td>0.0</td>\n",
              "      <td>Y</td>\n",
              "      <td>Norm</td>\n",
              "      <td>Norm</td>\n",
              "      <td>SBrkr</td>\n",
              "      <td>TA</td>\n",
              "      <td>Gd</td>\n",
              "      <td>VinylSd</td>\n",
              "      <td>VinylSd</td>\n",
              "      <td>PConc</td>\n",
              "      <td>2</td>\n",
              "      <td>Typ</td>\n",
              "      <td>1476</td>\n",
              "      <td>1</td>\n",
              "      <td>GasA</td>\n",
              "      <td>Ex</td>\n",
              "      <td>2Story</td>\n",
              "      <td>1</td>\n",
              "      <td>Gd</td>\n",
              "      <td>Lvl</td>\n",
              "      <td>Gtl</td>\n",
              "      <td>8145</td>\n",
              "      <td>Inside</td>\n",
              "      <td>IR1</td>\n",
              "      <td>60</td>\n",
              "      <td>RL</td>\n",
              "      <td>None</td>\n",
              "      <td>6</td>\n",
              "      <td>CollgCr</td>\n",
              "      <td>5</td>\n",
              "      <td>7</td>\n",
              "      <td>Y</td>\n",
              "      <td>CompShg</td>\n",
              "      <td>Gable</td>\n",
              "      <td>179400</td>\n",
              "      <td>Partial</td>\n",
              "      <td>New</td>\n",
              "      <td>Pave</td>\n",
              "      <td>7</td>\n",
              "      <td>AllPub</td>\n",
              "      <td>2007</td>\n",
              "      <td>2007</td>\n",
              "    </tr>\n",
              "    <tr>\n",
              "      <th>1865</th>\n",
              "      <td>2007-01-01</td>\n",
              "      <td>529</td>\n",
              "      <td>2</td>\n",
              "      <td>Twnhs</td>\n",
              "      <td>0.0</td>\n",
              "      <td>0.0</td>\n",
              "      <td>Y</td>\n",
              "      <td>Norm</td>\n",
              "      <td>Norm</td>\n",
              "      <td>SBrkr</td>\n",
              "      <td>Gd</td>\n",
              "      <td>TA</td>\n",
              "      <td>MetalSd</td>\n",
              "      <td>MetalSd</td>\n",
              "      <td>CBlock</td>\n",
              "      <td>1</td>\n",
              "      <td>Typ</td>\n",
              "      <td>1045</td>\n",
              "      <td>0</td>\n",
              "      <td>GasA</td>\n",
              "      <td>Gd</td>\n",
              "      <td>2Story</td>\n",
              "      <td>1</td>\n",
              "      <td>TA</td>\n",
              "      <td>Lvl</td>\n",
              "      <td>Gtl</td>\n",
              "      <td>1782</td>\n",
              "      <td>Inside</td>\n",
              "      <td>Reg</td>\n",
              "      <td>160</td>\n",
              "      <td>RM</td>\n",
              "      <td>None</td>\n",
              "      <td>12</td>\n",
              "      <td>Blueste</td>\n",
              "      <td>6</td>\n",
              "      <td>6</td>\n",
              "      <td>Y</td>\n",
              "      <td>CompShg</td>\n",
              "      <td>Gable</td>\n",
              "      <td>123900</td>\n",
              "      <td>Normal</td>\n",
              "      <td>WD</td>\n",
              "      <td>Pave</td>\n",
              "      <td>5</td>\n",
              "      <td>AllPub</td>\n",
              "      <td>1980</td>\n",
              "      <td>1980</td>\n",
              "    </tr>\n",
              "    <tr>\n",
              "      <th>2345</th>\n",
              "      <td>2006-01-01</td>\n",
              "      <td>934</td>\n",
              "      <td>2</td>\n",
              "      <td>1Fam</td>\n",
              "      <td>0.0</td>\n",
              "      <td>1.0</td>\n",
              "      <td>Y</td>\n",
              "      <td>Norm</td>\n",
              "      <td>Norm</td>\n",
              "      <td>SBrkr</td>\n",
              "      <td>Gd</td>\n",
              "      <td>TA</td>\n",
              "      <td>HdBoard</td>\n",
              "      <td>Plywood</td>\n",
              "      <td>CBlock</td>\n",
              "      <td>1</td>\n",
              "      <td>Typ</td>\n",
              "      <td>934</td>\n",
              "      <td>0</td>\n",
              "      <td>GasA</td>\n",
              "      <td>TA</td>\n",
              "      <td>SLvl</td>\n",
              "      <td>1</td>\n",
              "      <td>TA</td>\n",
              "      <td>Lvl</td>\n",
              "      <td>Gtl</td>\n",
              "      <td>10366</td>\n",
              "      <td>Corner</td>\n",
              "      <td>IR1</td>\n",
              "      <td>80</td>\n",
              "      <td>RL</td>\n",
              "      <td>None</td>\n",
              "      <td>7</td>\n",
              "      <td>Sawyer</td>\n",
              "      <td>7</td>\n",
              "      <td>6</td>\n",
              "      <td>Y</td>\n",
              "      <td>CompShg</td>\n",
              "      <td>Gable</td>\n",
              "      <td>132000</td>\n",
              "      <td>Normal</td>\n",
              "      <td>WD</td>\n",
              "      <td>Pave</td>\n",
              "      <td>4</td>\n",
              "      <td>AllPub</td>\n",
              "      <td>1964</td>\n",
              "      <td>1964</td>\n",
              "    </tr>\n",
              "  </tbody>\n",
              "</table>\n",
              "</div>"
            ],
            "text/plain": [
              "         Yr_Sold  1st_Flr_SF  ...  Year_Built Year_Remod/Add\n",
              "1800  2007-01-01         738  ...        2007           2007\n",
              "1865  2007-01-01         529  ...        1980           1980\n",
              "2345  2006-01-01         934  ...        1964           1964\n",
              "\n",
              "[3 rows x 47 columns]"
            ]
          },
          "metadata": {
            "tags": []
          },
          "execution_count": 3
        }
      ]
    },
    {
      "cell_type": "code",
      "metadata": {
        "colab": {
          "base_uri": "https://localhost:8080/"
        },
        "id": "tZeukPyePk7y",
        "outputId": "3ab3dbef-c69f-4287-e81e-796dbe4cb3b6"
      },
      "source": [
        "df.dtypes"
      ],
      "execution_count": 4,
      "outputs": [
        {
          "output_type": "execute_result",
          "data": {
            "text/plain": [
              "Yr_Sold            object\n",
              "1st_Flr_SF          int64\n",
              "Bedroom_AbvGr       int64\n",
              "Bldg_Type          object\n",
              "Bsmt_Full_Bath    float64\n",
              "Bsmt_Half_Bath    float64\n",
              "Central_Air        object\n",
              "Condition_1        object\n",
              "Condition_2        object\n",
              "Electrical         object\n",
              "Exter_Cond         object\n",
              "Exter_Qual         object\n",
              "Exterior_1st       object\n",
              "Exterior_2nd       object\n",
              "Foundation         object\n",
              "Full_Bath           int64\n",
              "Functional         object\n",
              "Gr_Liv_Area         int64\n",
              "Half_Bath           int64\n",
              "Heating            object\n",
              "Heating_QC         object\n",
              "House_Style        object\n",
              "Kitchen_AbvGr       int64\n",
              "Kitchen_Qual       object\n",
              "Land_Contour       object\n",
              "Land_Slope         object\n",
              "Lot_Area            int64\n",
              "Lot_Config         object\n",
              "Lot_Shape          object\n",
              "MS_SubClass         int64\n",
              "MS_Zoning          object\n",
              "Mas_Vnr_Type       object\n",
              "Mo_Sold             int64\n",
              "Neighborhood       object\n",
              "Overall_Cond        int64\n",
              "Overall_Qual        int64\n",
              "Paved_Drive        object\n",
              "Roof_Matl          object\n",
              "Roof_Style         object\n",
              "SalePrice           int64\n",
              "Sale_Condition     object\n",
              "Sale_Type          object\n",
              "Street             object\n",
              "TotRms_AbvGrd       int64\n",
              "Utilities          object\n",
              "Year_Built          int64\n",
              "Year_Remod/Add      int64\n",
              "dtype: object"
            ]
          },
          "metadata": {
            "tags": []
          },
          "execution_count": 4
        }
      ]
    },
    {
      "cell_type": "code",
      "metadata": {
        "colab": {
          "base_uri": "https://localhost:8080/"
        },
        "id": "bov0QHpQ6Wfj",
        "outputId": "c230913e-b8ad-4d55-e358-c2b32b75ca4d"
      },
      "source": [
        "print(df.isnull().sum())"
      ],
      "execution_count": 5,
      "outputs": [
        {
          "output_type": "stream",
          "text": [
            "Yr_Sold           0\n",
            "1st_Flr_SF        0\n",
            "Bedroom_AbvGr     0\n",
            "Bldg_Type         0\n",
            "Bsmt_Full_Bath    0\n",
            "Bsmt_Half_Bath    0\n",
            "Central_Air       0\n",
            "Condition_1       0\n",
            "Condition_2       0\n",
            "Electrical        0\n",
            "Exter_Cond        0\n",
            "Exter_Qual        0\n",
            "Exterior_1st      0\n",
            "Exterior_2nd      0\n",
            "Foundation        0\n",
            "Full_Bath         0\n",
            "Functional        0\n",
            "Gr_Liv_Area       0\n",
            "Half_Bath         0\n",
            "Heating           0\n",
            "Heating_QC        0\n",
            "House_Style       0\n",
            "Kitchen_AbvGr     0\n",
            "Kitchen_Qual      0\n",
            "Land_Contour      0\n",
            "Land_Slope        0\n",
            "Lot_Area          0\n",
            "Lot_Config        0\n",
            "Lot_Shape         0\n",
            "MS_SubClass       0\n",
            "MS_Zoning         0\n",
            "Mas_Vnr_Type      0\n",
            "Mo_Sold           0\n",
            "Neighborhood      0\n",
            "Overall_Cond      0\n",
            "Overall_Qual      0\n",
            "Paved_Drive       0\n",
            "Roof_Matl         0\n",
            "Roof_Style        0\n",
            "SalePrice         0\n",
            "Sale_Condition    0\n",
            "Sale_Type         0\n",
            "Street            0\n",
            "TotRms_AbvGrd     0\n",
            "Utilities         0\n",
            "Year_Built        0\n",
            "Year_Remod/Add    0\n",
            "dtype: int64\n"
          ],
          "name": "stdout"
        }
      ]
    },
    {
      "cell_type": "code",
      "metadata": {
        "colab": {
          "base_uri": "https://localhost:8080/"
        },
        "id": "0GyaeERvQU1A",
        "outputId": "f72acc12-d69e-4497-af96-19594e7e54e5"
      },
      "source": [
        "df.columns"
      ],
      "execution_count": 6,
      "outputs": [
        {
          "output_type": "execute_result",
          "data": {
            "text/plain": [
              "Index(['Yr_Sold', '1st_Flr_SF', 'Bedroom_AbvGr', 'Bldg_Type', 'Bsmt_Full_Bath',\n",
              "       'Bsmt_Half_Bath', 'Central_Air', 'Condition_1', 'Condition_2',\n",
              "       'Electrical', 'Exter_Cond', 'Exter_Qual', 'Exterior_1st',\n",
              "       'Exterior_2nd', 'Foundation', 'Full_Bath', 'Functional', 'Gr_Liv_Area',\n",
              "       'Half_Bath', 'Heating', 'Heating_QC', 'House_Style', 'Kitchen_AbvGr',\n",
              "       'Kitchen_Qual', 'Land_Contour', 'Land_Slope', 'Lot_Area', 'Lot_Config',\n",
              "       'Lot_Shape', 'MS_SubClass', 'MS_Zoning', 'Mas_Vnr_Type', 'Mo_Sold',\n",
              "       'Neighborhood', 'Overall_Cond', 'Overall_Qual', 'Paved_Drive',\n",
              "       'Roof_Matl', 'Roof_Style', 'SalePrice', 'Sale_Condition', 'Sale_Type',\n",
              "       'Street', 'TotRms_AbvGrd', 'Utilities', 'Year_Built', 'Year_Remod/Add'],\n",
              "      dtype='object')"
            ]
          },
          "metadata": {
            "tags": []
          },
          "execution_count": 6
        }
      ]
    },
    {
      "cell_type": "code",
      "metadata": {
        "id": "s8fhT0bZQegq"
      },
      "source": [
        "df['Datetime'] = pd.to_datetime(df['Yr_Sold'])\n",
        "df = df.set_index('Datetime')"
      ],
      "execution_count": 7,
      "outputs": []
    },
    {
      "cell_type": "code",
      "metadata": {
        "id": "iqz8c28hZFfS"
      },
      "source": [
        "df['Year']= pd.DatetimeIndex(df['Yr_Sold']).year"
      ],
      "execution_count": 8,
      "outputs": []
    },
    {
      "cell_type": "code",
      "metadata": {
        "colab": {
          "base_uri": "https://localhost:8080/"
        },
        "id": "rFnWbhj9ZQCK",
        "outputId": "fb430e94-49f3-4d31-d20c-64c29a22ece9"
      },
      "source": [
        "df['Year'].unique()"
      ],
      "execution_count": 9,
      "outputs": [
        {
          "output_type": "execute_result",
          "data": {
            "text/plain": [
              "array([2009, 2008, 2007, 2006])"
            ]
          },
          "metadata": {
            "tags": []
          },
          "execution_count": 9
        }
      ]
    },
    {
      "cell_type": "code",
      "metadata": {
        "colab": {
          "base_uri": "https://localhost:8080/",
          "height": 244
        },
        "id": "V8pPJZtIUEfL",
        "outputId": "d5e1cc37-c923-407b-bb02-5f443594bade"
      },
      "source": [
        "df.sample(3)"
      ],
      "execution_count": 10,
      "outputs": [
        {
          "output_type": "execute_result",
          "data": {
            "text/html": [
              "<div>\n",
              "<style scoped>\n",
              "    .dataframe tbody tr th:only-of-type {\n",
              "        vertical-align: middle;\n",
              "    }\n",
              "\n",
              "    .dataframe tbody tr th {\n",
              "        vertical-align: top;\n",
              "    }\n",
              "\n",
              "    .dataframe thead th {\n",
              "        text-align: right;\n",
              "    }\n",
              "</style>\n",
              "<table border=\"1\" class=\"dataframe\">\n",
              "  <thead>\n",
              "    <tr style=\"text-align: right;\">\n",
              "      <th></th>\n",
              "      <th>Yr_Sold</th>\n",
              "      <th>1st_Flr_SF</th>\n",
              "      <th>Bedroom_AbvGr</th>\n",
              "      <th>Bldg_Type</th>\n",
              "      <th>Bsmt_Full_Bath</th>\n",
              "      <th>Bsmt_Half_Bath</th>\n",
              "      <th>Central_Air</th>\n",
              "      <th>Condition_1</th>\n",
              "      <th>Condition_2</th>\n",
              "      <th>Electrical</th>\n",
              "      <th>Exter_Cond</th>\n",
              "      <th>Exter_Qual</th>\n",
              "      <th>Exterior_1st</th>\n",
              "      <th>Exterior_2nd</th>\n",
              "      <th>Foundation</th>\n",
              "      <th>Full_Bath</th>\n",
              "      <th>Functional</th>\n",
              "      <th>Gr_Liv_Area</th>\n",
              "      <th>Half_Bath</th>\n",
              "      <th>Heating</th>\n",
              "      <th>Heating_QC</th>\n",
              "      <th>House_Style</th>\n",
              "      <th>Kitchen_AbvGr</th>\n",
              "      <th>Kitchen_Qual</th>\n",
              "      <th>Land_Contour</th>\n",
              "      <th>Land_Slope</th>\n",
              "      <th>Lot_Area</th>\n",
              "      <th>Lot_Config</th>\n",
              "      <th>Lot_Shape</th>\n",
              "      <th>MS_SubClass</th>\n",
              "      <th>MS_Zoning</th>\n",
              "      <th>Mas_Vnr_Type</th>\n",
              "      <th>Mo_Sold</th>\n",
              "      <th>Neighborhood</th>\n",
              "      <th>Overall_Cond</th>\n",
              "      <th>Overall_Qual</th>\n",
              "      <th>Paved_Drive</th>\n",
              "      <th>Roof_Matl</th>\n",
              "      <th>Roof_Style</th>\n",
              "      <th>SalePrice</th>\n",
              "      <th>Sale_Condition</th>\n",
              "      <th>Sale_Type</th>\n",
              "      <th>Street</th>\n",
              "      <th>TotRms_AbvGrd</th>\n",
              "      <th>Utilities</th>\n",
              "      <th>Year_Built</th>\n",
              "      <th>Year_Remod/Add</th>\n",
              "      <th>Year</th>\n",
              "    </tr>\n",
              "    <tr>\n",
              "      <th>Datetime</th>\n",
              "      <th></th>\n",
              "      <th></th>\n",
              "      <th></th>\n",
              "      <th></th>\n",
              "      <th></th>\n",
              "      <th></th>\n",
              "      <th></th>\n",
              "      <th></th>\n",
              "      <th></th>\n",
              "      <th></th>\n",
              "      <th></th>\n",
              "      <th></th>\n",
              "      <th></th>\n",
              "      <th></th>\n",
              "      <th></th>\n",
              "      <th></th>\n",
              "      <th></th>\n",
              "      <th></th>\n",
              "      <th></th>\n",
              "      <th></th>\n",
              "      <th></th>\n",
              "      <th></th>\n",
              "      <th></th>\n",
              "      <th></th>\n",
              "      <th></th>\n",
              "      <th></th>\n",
              "      <th></th>\n",
              "      <th></th>\n",
              "      <th></th>\n",
              "      <th></th>\n",
              "      <th></th>\n",
              "      <th></th>\n",
              "      <th></th>\n",
              "      <th></th>\n",
              "      <th></th>\n",
              "      <th></th>\n",
              "      <th></th>\n",
              "      <th></th>\n",
              "      <th></th>\n",
              "      <th></th>\n",
              "      <th></th>\n",
              "      <th></th>\n",
              "      <th></th>\n",
              "      <th></th>\n",
              "      <th></th>\n",
              "      <th></th>\n",
              "      <th></th>\n",
              "      <th></th>\n",
              "    </tr>\n",
              "  </thead>\n",
              "  <tbody>\n",
              "    <tr>\n",
              "      <th>2008-01-01</th>\n",
              "      <td>2008-01-01</td>\n",
              "      <td>1053</td>\n",
              "      <td>4</td>\n",
              "      <td>1Fam</td>\n",
              "      <td>0.0</td>\n",
              "      <td>0.0</td>\n",
              "      <td>Y</td>\n",
              "      <td>Norm</td>\n",
              "      <td>Norm</td>\n",
              "      <td>SBrkr</td>\n",
              "      <td>TA</td>\n",
              "      <td>TA</td>\n",
              "      <td>Wd Sdng</td>\n",
              "      <td>Wd Sdng</td>\n",
              "      <td>BrkTil</td>\n",
              "      <td>1</td>\n",
              "      <td>Typ</td>\n",
              "      <td>1848</td>\n",
              "      <td>1</td>\n",
              "      <td>GasA</td>\n",
              "      <td>Gd</td>\n",
              "      <td>1.5Fin</td>\n",
              "      <td>1</td>\n",
              "      <td>Gd</td>\n",
              "      <td>Bnk</td>\n",
              "      <td>Gtl</td>\n",
              "      <td>13053</td>\n",
              "      <td>Inside</td>\n",
              "      <td>Reg</td>\n",
              "      <td>50</td>\n",
              "      <td>RL</td>\n",
              "      <td>None</td>\n",
              "      <td>6</td>\n",
              "      <td>BrkSide</td>\n",
              "      <td>7</td>\n",
              "      <td>6</td>\n",
              "      <td>N</td>\n",
              "      <td>CompShg</td>\n",
              "      <td>Gambrel</td>\n",
              "      <td>207000</td>\n",
              "      <td>Normal</td>\n",
              "      <td>WD</td>\n",
              "      <td>Pave</td>\n",
              "      <td>8</td>\n",
              "      <td>AllPub</td>\n",
              "      <td>1923</td>\n",
              "      <td>2000</td>\n",
              "      <td>2008</td>\n",
              "    </tr>\n",
              "    <tr>\n",
              "      <th>2006-01-01</th>\n",
              "      <td>2006-01-01</td>\n",
              "      <td>869</td>\n",
              "      <td>2</td>\n",
              "      <td>1Fam</td>\n",
              "      <td>0.0</td>\n",
              "      <td>0.0</td>\n",
              "      <td>Y</td>\n",
              "      <td>Norm</td>\n",
              "      <td>Norm</td>\n",
              "      <td>FuseA</td>\n",
              "      <td>TA</td>\n",
              "      <td>TA</td>\n",
              "      <td>Wd Sdng</td>\n",
              "      <td>Wd Sdng</td>\n",
              "      <td>PConc</td>\n",
              "      <td>1</td>\n",
              "      <td>Typ</td>\n",
              "      <td>869</td>\n",
              "      <td>0</td>\n",
              "      <td>GasA</td>\n",
              "      <td>TA</td>\n",
              "      <td>1Story</td>\n",
              "      <td>1</td>\n",
              "      <td>Fa</td>\n",
              "      <td>Bnk</td>\n",
              "      <td>Gtl</td>\n",
              "      <td>5900</td>\n",
              "      <td>Inside</td>\n",
              "      <td>IR1</td>\n",
              "      <td>30</td>\n",
              "      <td>RL</td>\n",
              "      <td>None</td>\n",
              "      <td>8</td>\n",
              "      <td>BrkSide</td>\n",
              "      <td>7</td>\n",
              "      <td>4</td>\n",
              "      <td>Y</td>\n",
              "      <td>CompShg</td>\n",
              "      <td>Gable</td>\n",
              "      <td>85500</td>\n",
              "      <td>Normal</td>\n",
              "      <td>WD</td>\n",
              "      <td>Pave</td>\n",
              "      <td>4</td>\n",
              "      <td>AllPub</td>\n",
              "      <td>1923</td>\n",
              "      <td>1958</td>\n",
              "      <td>2006</td>\n",
              "    </tr>\n",
              "    <tr>\n",
              "      <th>2008-01-01</th>\n",
              "      <td>2008-01-01</td>\n",
              "      <td>751</td>\n",
              "      <td>3</td>\n",
              "      <td>1Fam</td>\n",
              "      <td>0.0</td>\n",
              "      <td>0.0</td>\n",
              "      <td>Y</td>\n",
              "      <td>RRNn</td>\n",
              "      <td>Feedr</td>\n",
              "      <td>SBrkr</td>\n",
              "      <td>TA</td>\n",
              "      <td>TA</td>\n",
              "      <td>Wd Sdng</td>\n",
              "      <td>Wd Sdng</td>\n",
              "      <td>BrkTil</td>\n",
              "      <td>2</td>\n",
              "      <td>Typ</td>\n",
              "      <td>1362</td>\n",
              "      <td>0</td>\n",
              "      <td>GasA</td>\n",
              "      <td>Ex</td>\n",
              "      <td>2Story</td>\n",
              "      <td>1</td>\n",
              "      <td>TA</td>\n",
              "      <td>Lvl</td>\n",
              "      <td>Gtl</td>\n",
              "      <td>6155</td>\n",
              "      <td>FR3</td>\n",
              "      <td>IR1</td>\n",
              "      <td>70</td>\n",
              "      <td>RM</td>\n",
              "      <td>None</td>\n",
              "      <td>6</td>\n",
              "      <td>BrkSide</td>\n",
              "      <td>8</td>\n",
              "      <td>6</td>\n",
              "      <td>Y</td>\n",
              "      <td>CompShg</td>\n",
              "      <td>Gable</td>\n",
              "      <td>128000</td>\n",
              "      <td>Normal</td>\n",
              "      <td>WD</td>\n",
              "      <td>Pave</td>\n",
              "      <td>6</td>\n",
              "      <td>AllPub</td>\n",
              "      <td>1920</td>\n",
              "      <td>1999</td>\n",
              "      <td>2008</td>\n",
              "    </tr>\n",
              "  </tbody>\n",
              "</table>\n",
              "</div>"
            ],
            "text/plain": [
              "               Yr_Sold  1st_Flr_SF  ...  Year_Remod/Add  Year\n",
              "Datetime                            ...                      \n",
              "2008-01-01  2008-01-01        1053  ...            2000  2008\n",
              "2006-01-01  2006-01-01         869  ...            1958  2006\n",
              "2008-01-01  2008-01-01         751  ...            1999  2008\n",
              "\n",
              "[3 rows x 48 columns]"
            ]
          },
          "metadata": {
            "tags": []
          },
          "execution_count": 10
        }
      ]
    },
    {
      "cell_type": "code",
      "metadata": {
        "colab": {
          "base_uri": "https://localhost:8080/"
        },
        "id": "TKhBbDFaUH2E",
        "outputId": "d66f10f5-84e7-488f-9f54-644d03cc4928"
      },
      "source": [
        "df.index"
      ],
      "execution_count": 11,
      "outputs": [
        {
          "output_type": "execute_result",
          "data": {
            "text/plain": [
              "DatetimeIndex(['2009-01-01', '2009-01-01', '2009-01-01', '2009-01-01',\n",
              "               '2009-01-01', '2009-01-01', '2009-01-01', '2009-01-01',\n",
              "               '2009-01-01', '2009-01-01',\n",
              "               ...\n",
              "               '2006-01-01', '2006-01-01', '2006-01-01', '2006-01-01',\n",
              "               '2006-01-01', '2006-01-01', '2006-01-01', '2006-01-01',\n",
              "               '2006-01-01', '2006-01-01'],\n",
              "              dtype='datetime64[ns]', name='Datetime', length=2564, freq=None)"
            ]
          },
          "metadata": {
            "tags": []
          },
          "execution_count": 11
        }
      ]
    },
    {
      "cell_type": "markdown",
      "metadata": {
        "id": "bpvwqaM7O7sT"
      },
      "source": [
        "**Task 1 Testing**"
      ]
    },
    {
      "cell_type": "code",
      "metadata": {
        "id": "jlluNPjqO7sU"
      },
      "source": [
        "'''T1 Testing.'''\n",
        "assert isinstance(df, pd.DataFrame), '`df` is not a DataFrame. Did you import the data?'\n",
        "assert len(df) == 2564, 'DataFrame `df` has the wrong number of rows.'\n",
        "assert isinstance(df.index, pd.DatetimeIndex), '`df` does not have a datetime index.'"
      ],
      "execution_count": 12,
      "outputs": []
    },
    {
      "cell_type": "markdown",
      "metadata": {
        "id": "6fAeEyciO7sV"
      },
      "source": [
        "**Task 2 (`stretch goal`):** Create a scatter plot that shows `'SalePrice'` as a function of `'Gr_Liv_Area'`. Be sure to label the axes of your plot."
      ]
    },
    {
      "cell_type": "code",
      "metadata": {
        "colab": {
          "base_uri": "https://localhost:8080/",
          "height": 335
        },
        "id": "PtxiDdvDO7sW",
        "outputId": "991fc2eb-f36a-40b2-d491-9a0138dc170d"
      },
      "source": [
        "import matplotlib.pyplot as plt\n",
        "import seaborn as sns\n",
        "\n",
        "# YOUR CODE HERE\n",
        "fig, ax = plt.subplots(figsize=(12, 5))\n",
        "sns.scatterplot(x=\"Gr_Liv_Area\", y=\"SalePrice\", data=df)\n",
        "plt.show()"
      ],
      "execution_count": 13,
      "outputs": [
        {
          "output_type": "display_data",
          "data": {
            "image/png": "[encoded data removed]",
            "text/plain": [
              "<Figure size 864x360 with 1 Axes>"
            ]
          },
          "metadata": {
            "tags": [],
            "needs_background": "light"
          }
        }
      ]
    },
    {
      "cell_type": "markdown",
      "metadata": {
        "id": "usXXhrvMO7sX"
      },
      "source": [
        "## II. Split Data\n",
        "\n",
        "**Task 3:** Since you're building a model to predict the price at which a house will be sold, your target is the `'SalePrice'` column. Split the DataFrame `df` into the target vector `y` and the feature matrix `X`. "
      ]
    },
    {
      "cell_type": "code",
      "metadata": {
        "colab": {
          "base_uri": "https://localhost:8080/"
        },
        "id": "TAbPDxP5O7sX",
        "outputId": "6dd85bd4-d7e5-40e5-ce58-43bdf19d897b"
      },
      "source": [
        "'''T3: Split `df` into `X` and `y`.'''\n",
        "\n",
        "target = 'SalePrice'\n",
        "features= df.columns.drop([target]+ ['Yr_Sold']+ ['Year'])\n",
        "# YOUR CODE HERE\n",
        "y= df[target]\n",
        "X= df[features]\n",
        "y.shape, X.shape"
      ],
      "execution_count": 14,
      "outputs": [
        {
          "output_type": "execute_result",
          "data": {
            "text/plain": [
              "((2564,), (2564, 45))"
            ]
          },
          "metadata": {
            "tags": []
          },
          "execution_count": 14
        }
      ]
    },
    {
      "cell_type": "markdown",
      "metadata": {
        "id": "D0SCpwWNO7sZ"
      },
      "source": [
        "**Task 3 Testing**"
      ]
    },
    {
      "cell_type": "code",
      "metadata": {
        "id": "7YiY5_VrO7sa"
      },
      "source": [
        "'''T3 Tests'''\n",
        "assert y.shape == (2564,), '`y` either has the wrong number of rows, or is two-dimentional.'\n",
        "assert X.shape == (2564, 45), '`X` has the wrong number of columns or rows.'\n",
        "assert 'SalePrice' not in X.columns, 'Target is still part of feature matrix.' "
      ],
      "execution_count": 15,
      "outputs": []
    },
    {
      "cell_type": "markdown",
      "metadata": {
        "id": "CrXmnLn0O7sa"
      },
      "source": [
        "**Task 4:** Split `X` and `y` into training, validation, and test sets. Since housing prices fluctuate over time, you should use the time-based cutoff method. \n",
        "\n",
        "- Training: Homes sold before 2009\n",
        "- Validation: Homes sold during 2009"
      ]
    },
    {
      "cell_type": "code",
      "metadata": {
        "colab": {
          "base_uri": "https://localhost:8080/"
        },
        "id": "lbDnQa8hO7sb",
        "outputId": "60a726c9-86ae-4d9b-b680-2553f5aea9f4"
      },
      "source": [
        "'''T4: Split `X` and `y` into training, validation, and testing sets.'''\n",
        "\n",
        "# YOUR CODE HERE\n",
        "target = 'SalePrice'\n",
        "features= df.columns.drop([target] + ['Yr_Sold'])\n",
        "train= df[df['Year'] < 2009]\n",
        "val= df[df['Year'] == 2009]\n",
        "X_train = train[features]\n",
        "X_val= val[features]\n",
        "y_train= train[target]\n",
        "y_val= val[target]\n",
        "\n",
        "X_train.shape, X_val.shape, y_train.shape, y_val.shape"
      ],
      "execution_count": 16,
      "outputs": [
        {
          "output_type": "execute_result",
          "data": {
            "text/plain": [
              "((1920, 46), (644, 46), (1920,), (644,))"
            ]
          },
          "metadata": {
            "tags": []
          },
          "execution_count": 16
        }
      ]
    },
    {
      "cell_type": "markdown",
      "metadata": {
        "id": "7gcZsGDqO7sb"
      },
      "source": [
        "**Task 4 Testing**"
      ]
    },
    {
      "cell_type": "code",
      "metadata": {
        "id": "DVotAZNZO7sc"
      },
      "source": [
        "'''T4 Tests'''\n",
        "assert len(X_train) == len(y_train) == 1920, 'Your training set has the wrong number of rows.'\n",
        "assert len(X_val) == len(y_val) == 644, 'Your validation set has the wrong number of rows.'"
      ],
      "execution_count": 17,
      "outputs": []
    },
    {
      "cell_type": "markdown",
      "metadata": {
        "id": "L902EEfBO7sc"
      },
      "source": [
        "## III. Set Baseline\n",
        "\n",
        "**Task 5:** Before you can create a model to predict sale price, you need to establish a baseline. First, calculate the mean housing price for your training set. Next, calculate the *mean absolute error* for a model that always predicts that mean. Be sure to assign the mean absolute error to a variable named `baseline_mae`."
      ]
    },
    {
      "cell_type": "code",
      "metadata": {
        "colab": {
          "base_uri": "https://localhost:8080/"
        },
        "id": "mIvHYL7hO7sc",
        "outputId": "a5990a23-5880-465a-d8f5-c48fb84bee69"
      },
      "source": [
        "'''T5: Calculate baseline mean absolute error.'''\n",
        "from sklearn.metrics import mean_absolute_error\n",
        "\n",
        "# YOUR CODE HERE\n",
        "guess= y_train.mean()\n",
        "y_pred= [guess] * len(y_train)\n",
        "baseline_mae= mean_absolute_error(y_train, y_pred)\n",
        "print('Baseline MAE:', baseline_mae)"
      ],
      "execution_count": 18,
      "outputs": [
        {
          "output_type": "stream",
          "text": [
            "Baseline MAE: 58502.9394639757\n"
          ],
          "name": "stdout"
        }
      ]
    },
    {
      "cell_type": "markdown",
      "metadata": {
        "id": "6S_bPJ9UO7sd"
      },
      "source": [
        "**Task 5 Testing**"
      ]
    },
    {
      "cell_type": "code",
      "metadata": {
        "id": "lx5GashAO7sd"
      },
      "source": [
        "'''T5 Tests'''\n",
        "assert isinstance(baseline_mae, float), '`baseline_mae` is not a `float`. Have you assigned a value to this variable name?'"
      ],
      "execution_count": 19,
      "outputs": []
    },
    {
      "cell_type": "markdown",
      "metadata": {
        "id": "zDNwFvh0O7se"
      },
      "source": [
        "## IV. Build Models\n",
        "\n",
        "**Task 6:** Build and train a linear regression model named `model_lr` that predicts home sale price. Your model should have the following components:\n",
        "\n",
        "- A `OneHotEncoder` for categorical features.\n",
        "- A `StandardScaler` so that you can compare your model coefficients after training.\n",
        "- A `pipeline` that combines transformers and predictor.\n",
        "\n",
        "**Tip:** For your `OneHotEncoder`, `use_cat_names` should be set to `True`."
      ]
    },
    {
      "cell_type": "code",
      "metadata": {
        "colab": {
          "base_uri": "https://localhost:8080/",
          "height": 948
        },
        "id": "2zdqTpigVQV3",
        "outputId": "98da947f-375e-4d1a-b128-a9f382c9ff92"
      },
      "source": [
        "X_train.describe(exclude= 'number').T.sort_values(by= 'unique')"
      ],
      "execution_count": 20,
      "outputs": [
        {
          "output_type": "execute_result",
          "data": {
            "text/html": [
              "<div>\n",
              "<style scoped>\n",
              "    .dataframe tbody tr th:only-of-type {\n",
              "        vertical-align: middle;\n",
              "    }\n",
              "\n",
              "    .dataframe tbody tr th {\n",
              "        vertical-align: top;\n",
              "    }\n",
              "\n",
              "    .dataframe thead th {\n",
              "        text-align: right;\n",
              "    }\n",
              "</style>\n",
              "<table border=\"1\" class=\"dataframe\">\n",
              "  <thead>\n",
              "    <tr style=\"text-align: right;\">\n",
              "      <th></th>\n",
              "      <th>count</th>\n",
              "      <th>unique</th>\n",
              "      <th>top</th>\n",
              "      <th>freq</th>\n",
              "    </tr>\n",
              "  </thead>\n",
              "  <tbody>\n",
              "    <tr>\n",
              "      <th>Utilities</th>\n",
              "      <td>1920</td>\n",
              "      <td>2</td>\n",
              "      <td>AllPub</td>\n",
              "      <td>1919</td>\n",
              "    </tr>\n",
              "    <tr>\n",
              "      <th>Central_Air</th>\n",
              "      <td>1920</td>\n",
              "      <td>2</td>\n",
              "      <td>Y</td>\n",
              "      <td>1791</td>\n",
              "    </tr>\n",
              "    <tr>\n",
              "      <th>Street</th>\n",
              "      <td>1920</td>\n",
              "      <td>2</td>\n",
              "      <td>Pave</td>\n",
              "      <td>1912</td>\n",
              "    </tr>\n",
              "    <tr>\n",
              "      <th>Paved_Drive</th>\n",
              "      <td>1920</td>\n",
              "      <td>3</td>\n",
              "      <td>Y</td>\n",
              "      <td>1731</td>\n",
              "    </tr>\n",
              "    <tr>\n",
              "      <th>Land_Slope</th>\n",
              "      <td>1920</td>\n",
              "      <td>3</td>\n",
              "      <td>Gtl</td>\n",
              "      <td>1829</td>\n",
              "    </tr>\n",
              "    <tr>\n",
              "      <th>Lot_Shape</th>\n",
              "      <td>1920</td>\n",
              "      <td>4</td>\n",
              "      <td>Reg</td>\n",
              "      <td>1203</td>\n",
              "    </tr>\n",
              "    <tr>\n",
              "      <th>Land_Contour</th>\n",
              "      <td>1920</td>\n",
              "      <td>4</td>\n",
              "      <td>Lvl</td>\n",
              "      <td>1716</td>\n",
              "    </tr>\n",
              "    <tr>\n",
              "      <th>Kitchen_Qual</th>\n",
              "      <td>1920</td>\n",
              "      <td>4</td>\n",
              "      <td>TA</td>\n",
              "      <td>991</td>\n",
              "    </tr>\n",
              "    <tr>\n",
              "      <th>Exter_Qual</th>\n",
              "      <td>1920</td>\n",
              "      <td>4</td>\n",
              "      <td>TA</td>\n",
              "      <td>1197</td>\n",
              "    </tr>\n",
              "    <tr>\n",
              "      <th>Bldg_Type</th>\n",
              "      <td>1920</td>\n",
              "      <td>5</td>\n",
              "      <td>1Fam</td>\n",
              "      <td>1588</td>\n",
              "    </tr>\n",
              "    <tr>\n",
              "      <th>Heating_QC</th>\n",
              "      <td>1920</td>\n",
              "      <td>5</td>\n",
              "      <td>Ex</td>\n",
              "      <td>976</td>\n",
              "    </tr>\n",
              "    <tr>\n",
              "      <th>Exter_Cond</th>\n",
              "      <td>1920</td>\n",
              "      <td>5</td>\n",
              "      <td>TA</td>\n",
              "      <td>1683</td>\n",
              "    </tr>\n",
              "    <tr>\n",
              "      <th>Electrical</th>\n",
              "      <td>1920</td>\n",
              "      <td>5</td>\n",
              "      <td>SBrkr</td>\n",
              "      <td>1752</td>\n",
              "    </tr>\n",
              "    <tr>\n",
              "      <th>Lot_Config</th>\n",
              "      <td>1920</td>\n",
              "      <td>5</td>\n",
              "      <td>Inside</td>\n",
              "      <td>1418</td>\n",
              "    </tr>\n",
              "    <tr>\n",
              "      <th>Mas_Vnr_Type</th>\n",
              "      <td>1920</td>\n",
              "      <td>5</td>\n",
              "      <td>None</td>\n",
              "      <td>1151</td>\n",
              "    </tr>\n",
              "    <tr>\n",
              "      <th>Foundation</th>\n",
              "      <td>1920</td>\n",
              "      <td>6</td>\n",
              "      <td>PConc</td>\n",
              "      <td>863</td>\n",
              "    </tr>\n",
              "    <tr>\n",
              "      <th>Sale_Condition</th>\n",
              "      <td>1920</td>\n",
              "      <td>6</td>\n",
              "      <td>Normal</td>\n",
              "      <td>1542</td>\n",
              "    </tr>\n",
              "    <tr>\n",
              "      <th>Heating</th>\n",
              "      <td>1920</td>\n",
              "      <td>6</td>\n",
              "      <td>GasA</td>\n",
              "      <td>1892</td>\n",
              "    </tr>\n",
              "    <tr>\n",
              "      <th>Roof_Style</th>\n",
              "      <td>1920</td>\n",
              "      <td>6</td>\n",
              "      <td>Gable</td>\n",
              "      <td>1526</td>\n",
              "    </tr>\n",
              "    <tr>\n",
              "      <th>MS_Zoning</th>\n",
              "      <td>1920</td>\n",
              "      <td>7</td>\n",
              "      <td>RL</td>\n",
              "      <td>1485</td>\n",
              "    </tr>\n",
              "    <tr>\n",
              "      <th>Roof_Matl</th>\n",
              "      <td>1920</td>\n",
              "      <td>8</td>\n",
              "      <td>CompShg</td>\n",
              "      <td>1887</td>\n",
              "    </tr>\n",
              "    <tr>\n",
              "      <th>Condition_2</th>\n",
              "      <td>1920</td>\n",
              "      <td>8</td>\n",
              "      <td>Norm</td>\n",
              "      <td>1897</td>\n",
              "    </tr>\n",
              "    <tr>\n",
              "      <th>House_Style</th>\n",
              "      <td>1920</td>\n",
              "      <td>8</td>\n",
              "      <td>1Story</td>\n",
              "      <td>956</td>\n",
              "    </tr>\n",
              "    <tr>\n",
              "      <th>Functional</th>\n",
              "      <td>1920</td>\n",
              "      <td>8</td>\n",
              "      <td>Typ</td>\n",
              "      <td>1793</td>\n",
              "    </tr>\n",
              "    <tr>\n",
              "      <th>Condition_1</th>\n",
              "      <td>1920</td>\n",
              "      <td>9</td>\n",
              "      <td>Norm</td>\n",
              "      <td>1659</td>\n",
              "    </tr>\n",
              "    <tr>\n",
              "      <th>Sale_Type</th>\n",
              "      <td>1920</td>\n",
              "      <td>10</td>\n",
              "      <td>WD</td>\n",
              "      <td>1637</td>\n",
              "    </tr>\n",
              "    <tr>\n",
              "      <th>Exterior_1st</th>\n",
              "      <td>1920</td>\n",
              "      <td>16</td>\n",
              "      <td>VinylSd</td>\n",
              "      <td>656</td>\n",
              "    </tr>\n",
              "    <tr>\n",
              "      <th>Exterior_2nd</th>\n",
              "      <td>1920</td>\n",
              "      <td>16</td>\n",
              "      <td>VinylSd</td>\n",
              "      <td>652</td>\n",
              "    </tr>\n",
              "    <tr>\n",
              "      <th>Neighborhood</th>\n",
              "      <td>1920</td>\n",
              "      <td>28</td>\n",
              "      <td>NAmes</td>\n",
              "      <td>290</td>\n",
              "    </tr>\n",
              "  </tbody>\n",
              "</table>\n",
              "</div>"
            ],
            "text/plain": [
              "               count unique      top  freq\n",
              "Utilities       1920      2   AllPub  1919\n",
              "Central_Air     1920      2        Y  1791\n",
              "Street          1920      2     Pave  1912\n",
              "Paved_Drive     1920      3        Y  1731\n",
              "Land_Slope      1920      3      Gtl  1829\n",
              "Lot_Shape       1920      4      Reg  1203\n",
              "Land_Contour    1920      4      Lvl  1716\n",
              "Kitchen_Qual    1920      4       TA   991\n",
              "Exter_Qual      1920      4       TA  1197\n",
              "Bldg_Type       1920      5     1Fam  1588\n",
              "Heating_QC      1920      5       Ex   976\n",
              "Exter_Cond      1920      5       TA  1683\n",
              "Electrical      1920      5    SBrkr  1752\n",
              "Lot_Config      1920      5   Inside  1418\n",
              "Mas_Vnr_Type    1920      5     None  1151\n",
              "Foundation      1920      6    PConc   863\n",
              "Sale_Condition  1920      6   Normal  1542\n",
              "Heating         1920      6     GasA  1892\n",
              "Roof_Style      1920      6    Gable  1526\n",
              "MS_Zoning       1920      7       RL  1485\n",
              "Roof_Matl       1920      8  CompShg  1887\n",
              "Condition_2     1920      8     Norm  1897\n",
              "House_Style     1920      8   1Story   956\n",
              "Functional      1920      8      Typ  1793\n",
              "Condition_1     1920      9     Norm  1659\n",
              "Sale_Type       1920     10      WD   1637\n",
              "Exterior_1st    1920     16  VinylSd   656\n",
              "Exterior_2nd    1920     16  VinylSd   652\n",
              "Neighborhood    1920     28    NAmes   290"
            ]
          },
          "metadata": {
            "tags": []
          },
          "execution_count": 20
        }
      ]
    },
    {
      "cell_type": "code",
      "metadata": {
        "id": "IfB91X1cVaoi"
      },
      "source": [
        ""
      ],
      "execution_count": 20,
      "outputs": []
    },
    {
      "cell_type": "code",
      "metadata": {
        "id": "2eEDWUMkO7se",
        "colab": {
          "base_uri": "https://localhost:8080/"
        },
        "outputId": "c587dbe9-f0ca-425a-b08e-59c47cfd5e1c"
      },
      "source": [
        "'''T6: Build and train LinearRegression model.'''\n",
        "from sklearn.pipeline import make_pipeline\n",
        "from sklearn.linear_model import LinearRegression\n",
        "from category_encoders import OneHotEncoder\n",
        "from sklearn.compose import ColumnTransformer\n",
        "from sklearn.pipeline import Pipeline\n",
        "from sklearn.preprocessing import PolynomialFeatures\n",
        "from sklearn.preprocessing import StandardScaler, OneHotEncoder\n",
        "\n",
        "numeric= ['1st_Flr_SF', 'Bedroom_AbvGr', 'Bsmt_Full_Bath', 'Bsmt_Half_Bath', 'Full_Bath',\n",
        "          'Gr_Liv_Area', 'Half_Bath', 'Kitchen_AbvGr', 'Lot_Area', 'MS_SubClass', 'Mo_Sold',\n",
        "          'Overall_Cond', 'Overall_Qual', 'TotRms_AbvGrd', 'Year_Built',\n",
        "          'Year_Remod/Add', 'Year']\n",
        "\n",
        "numeric_transformer = Pipeline(steps=[('poly',PolynomialFeatures(degree =2)),('scaler', StandardScaler())])\n",
        "\n",
        "categorical= ['Utilities', 'Central_Air', 'Street', 'Paved_Drive', 'Land_Slope', 'Land_Slope', 'Exter_Qual','Kitchen_Qual', 'Land_Contour', 'Lot_Shape']\n",
        "\n",
        "categorical_transformer = Pipeline(steps=[('onehot', OneHotEncoder(handle_unknown='ignore'))])\n",
        "\n",
        "preprocessor = ColumnTransformer(\n",
        "    transformers=[('num', numeric_transformer, numeric),\n",
        "        ('cat', categorical_transformer, categorical)])\n",
        "\n",
        "model_lr= Pipeline(steps=[('preprocessor', preprocessor), ('classifier', LinearRegression())])\n",
        "\n",
        "model_lr.fit(X_train, y_train);"
      ],
      "execution_count": 21,
      "outputs": [
        {
          "output_type": "stream",
          "text": [
            "/usr/local/lib/python3.6/dist-packages/statsmodels/tools/_testing.py:19: FutureWarning: pandas.util.testing is deprecated. Use the functions in the public API at pandas.testing instead.\n",
            "  import pandas.util.testing as tm\n"
          ],
          "name": "stderr"
        }
      ]
    },
    {
      "cell_type": "code",
      "metadata": {
        "id": "Tw9vlIhpBY03",
        "colab": {
          "base_uri": "https://localhost:8080/"
        },
        "outputId": "e993a47a-a366-4449-f65f-7b8cb961013c"
      },
      "source": [
        "model_lr.score(X_train, y_train)"
      ],
      "execution_count": 22,
      "outputs": [
        {
          "output_type": "execute_result",
          "data": {
            "text/plain": [
              "0.9237258833307445"
            ]
          },
          "metadata": {
            "tags": []
          },
          "execution_count": 22
        }
      ]
    },
    {
      "cell_type": "code",
      "metadata": {
        "id": "MMFTeZNtmbsh"
      },
      "source": [
        "y_pred2= model_lr.predict(X_train)"
      ],
      "execution_count": 23,
      "outputs": []
    },
    {
      "cell_type": "code",
      "metadata": {
        "id": "wjiCYu0HhbFl",
        "colab": {
          "base_uri": "https://localhost:8080/"
        },
        "outputId": "873e768d-3771-4f08-f321-4f6f45c0a1c1"
      },
      "source": [
        "model_lr.score(X_val, y_val)"
      ],
      "execution_count": 24,
      "outputs": [
        {
          "output_type": "execute_result",
          "data": {
            "text/plain": [
              "0.8781465011471676"
            ]
          },
          "metadata": {
            "tags": []
          },
          "execution_count": 24
        }
      ]
    },
    {
      "cell_type": "code",
      "metadata": {
        "id": "JfA6DEkimtpT"
      },
      "source": [
        "y_pred3= model_lr.predict(X_val)"
      ],
      "execution_count": 25,
      "outputs": []
    },
    {
      "cell_type": "markdown",
      "metadata": {
        "id": "gGGZgzI5O7sg"
      },
      "source": [
        "**Task 6 Testing**"
      ]
    },
    {
      "cell_type": "code",
      "metadata": {
        "id": "Wj7tPnvZO7sh"
      },
      "source": [
        "'''T6 Tests'''\n",
        "from sklearn.pipeline import Pipeline\n",
        "assert isinstance(model_lr, Pipeline), '`model_lr` is not a pipeline.'\n",
        "assert len(model_lr.named_steps) > 1, 'Your `model_lr` pipeline is missing components.'"
      ],
      "execution_count": 26,
      "outputs": []
    },
    {
      "cell_type": "markdown",
      "metadata": {
        "id": "MW1uo2G7O7si"
      },
      "source": [
        "**Task 7:** Build and train a ridge regression model named `model_r` that predicts home sales price. Your model should include the following components:\n",
        "\n",
        "- A `OneHotEncoder` for categorical features.\n",
        "- A `StandardScaler` so that you can compare your model coefficients after training.\n",
        "- A `pipeline` that combines transformers and predictor.\n",
        "\n",
        "**Tip:** If you combine a `StandardScaler` transformer with a `Ridge` predictor, you should set the `normalize` argument for the latter to `False`."
      ]
    },
    {
      "cell_type": "code",
      "metadata": {
        "id": "9CzbLxohO7si"
      },
      "source": [
        "'''T7. Build and train Ridge model.'''\n",
        "from sklearn.linear_model import Ridge\n",
        "from sklearn.preprocessing import StandardScaler, RobustScaler, QuantileTransformer\n",
        "from sklearn.feature_selection import SelectKBest, f_regression\n",
        "from sklearn.decomposition import PCA\n",
        "from sklearn.linear_model import LogisticRegression\n",
        "from sklearn.model_selection import GridSearchCV\n",
        "from sklearn.metrics import mean_squared_error\n",
        "from sklearn.impute import SimpleImputer\n",
        "# YOUR CODE HERE\n",
        "numeric= ['1st_Flr_SF', 'Bedroom_AbvGr', 'Bsmt_Full_Bath', 'Bsmt_Half_Bath', 'Full_Bath',\n",
        "          'Gr_Liv_Area', 'Half_Bath', 'Kitchen_AbvGr', 'Lot_Area', 'MS_SubClass', 'Mo_Sold',\n",
        "          'Overall_Cond', 'Overall_Qual', 'TotRms_AbvGrd', 'Year_Built',\n",
        "          'Year_Remod/Add', 'Year']\n",
        "\n",
        "numeric_transformer = Pipeline(steps=[('imputer', SimpleImputer(strategy='median')),('scaler', StandardScaler())])\n",
        "\n",
        "categorical= ['Central_Air', 'Street', 'Paved_Drive', 'Land_Slope', 'Land_Slope', 'Exter_Qual','Kitchen_Qual', 'Land_Contour', 'Lot_Shape']\n",
        "categorical_transformer = Pipeline(steps=[('onehot', OneHotEncoder())])\n",
        "\n",
        "preprocessor = ColumnTransformer(\n",
        "    transformers=[('num', numeric_transformer, numeric),\n",
        "        ('cat', categorical_transformer, categorical)])\n",
        "\n",
        "model_r = Pipeline(steps=[('preprocessor', preprocessor),('classifier', Ridge())])\n",
        "\n",
        "model_r.fit(X_train, y_train);"
      ],
      "execution_count": 28,
      "outputs": []
    },
    {
      "cell_type": "code",
      "metadata": {
        "colab": {
          "base_uri": "https://localhost:8080/"
        },
        "id": "bqfhCeg2hI7J",
        "outputId": "9a662aee-de8e-4c2f-f8f7-4e1d7d1396f6"
      },
      "source": [
        "model_r.score(X_train, y_train)"
      ],
      "execution_count": 29,
      "outputs": [
        {
          "output_type": "execute_result",
          "data": {
            "text/plain": [
              "0.8329066325635008"
            ]
          },
          "metadata": {
            "tags": []
          },
          "execution_count": 29
        }
      ]
    },
    {
      "cell_type": "code",
      "metadata": {
        "id": "8xiR3ErkmVTj"
      },
      "source": [
        "y_pred4= model_r.predict(X_train)"
      ],
      "execution_count": 30,
      "outputs": []
    },
    {
      "cell_type": "code",
      "metadata": {
        "colab": {
          "base_uri": "https://localhost:8080/"
        },
        "id": "s9cxjDCAhL8b",
        "outputId": "d2b5e597-bb9f-4387-ffe2-66790dbb820c"
      },
      "source": [
        "model_r.score(X_val, y_val)"
      ],
      "execution_count": 31,
      "outputs": [
        {
          "output_type": "execute_result",
          "data": {
            "text/plain": [
              "0.8727811384442674"
            ]
          },
          "metadata": {
            "tags": []
          },
          "execution_count": 31
        }
      ]
    },
    {
      "cell_type": "code",
      "metadata": {
        "id": "pCAgf87Cm4e6"
      },
      "source": [
        "y_pred5= model_r.predict(X_val)"
      ],
      "execution_count": 32,
      "outputs": []
    },
    {
      "cell_type": "markdown",
      "metadata": {
        "id": "0BlTooswO7sk"
      },
      "source": [
        "**Task 7 Testing**"
      ]
    },
    {
      "cell_type": "code",
      "metadata": {
        "id": "i2yWfcfhO7sk"
      },
      "source": [
        "assert isinstance(model_r, Pipeline), '`model_r` is not a pipeline.'\n",
        "assert len(model_r.named_steps) > 1, 'Your `model_r` pipeline is missing components.'"
      ],
      "execution_count": 33,
      "outputs": []
    },
    {
      "cell_type": "markdown",
      "metadata": {
        "id": "jMKTPNGKO7sl"
      },
      "source": [
        "## V. Check Metrics\n",
        "\n",
        "**Task 8:** Compare your models by calculating their mean absolute error for the training and validation sets. You should assign these to the variables `model_lr_training_mae`, `model_lr_validation_mae`, `model_r_training_mae`, and `model_r_validation_mae`, respectively. The validation MAE for both your models should be lower than your `baseline_mae`."
      ]
    },
    {
      "cell_type": "code",
      "metadata": {
        "id": "ZfTczwjEO7sl",
        "colab": {
          "base_uri": "https://localhost:8080/"
        },
        "outputId": "eafdaf7e-04ef-4935-a9b1-c34d4bd3daa6"
      },
      "source": [
        "'''T8: Compare model metrics, MAE.'''\n",
        "# YOUR CODE HERE\n",
        "from sklearn.metrics import mean_absolute_error\n",
        "\n",
        "model_lr_training_mae= mean_absolute_error(y_train, y_pred2)\n",
        "model_lr_validation_mae= mean_absolute_error(y_val, y_pred3)\n",
        "model_r_training_mae= mean_absolute_error(y_train, y_pred4)\n",
        "model_r_validation_mae= mean_absolute_error(y_val, y_pred5)\n",
        "\n",
        "\n",
        "print('Linear Regression Model')\n",
        "print('Training MAE:', model_lr_training_mae)\n",
        "print('Validation MAE:', model_lr_validation_mae)\n",
        "print()\n",
        "print('Ridge Regression Model')\n",
        "print('Training MAE:', model_r_training_mae)\n",
        "print('Validation MAE:', model_r_validation_mae)"
      ],
      "execution_count": 34,
      "outputs": [
        {
          "output_type": "stream",
          "text": [
            "Linear Regression Model\n",
            "Training MAE: 15524.492289295264\n",
            "Validation MAE: 19751.994296484645\n",
            "\n",
            "Ridge Regression Model\n",
            "Training MAE: 20231.303839748816\n",
            "Validation MAE: 20247.344327396833\n"
          ],
          "name": "stdout"
        }
      ]
    },
    {
      "cell_type": "markdown",
      "metadata": {
        "id": "LzEhlTSjO7sm"
      },
      "source": [
        "**Task 8 Testing**"
      ]
    },
    {
      "cell_type": "code",
      "metadata": {
        "id": "uB9zHuF3O7sm"
      },
      "source": [
        "'''T8 Tests'''\n",
        "assert isinstance(model_lr_training_mae, float), '`model_lr_training_mae` is not a float. Did you assign a value to this variable?'\n",
        "assert isinstance(model_lr_validation_mae, float), '`model_lr_validation_mae` is not a float. Did you assign a value to this variable?'\n",
        "assert isinstance(model_r_training_mae, float), '`model_r_training_mae` is not a float. Did you assign a value to this variable?'\n",
        "assert isinstance(model_r_validation_mae, float), '`model_r_validation_mae` is not a float. Did you assign a value to this variable?'"
      ],
      "execution_count": 35,
      "outputs": []
    },
    {
      "cell_type": "markdown",
      "metadata": {
        "id": "P95Hc1_oO7sn"
      },
      "source": [
        "**Task 9:** Compare your two models by calculating their $R^2$ score for the **validation data**."
      ]
    },
    {
      "cell_type": "code",
      "metadata": {
        "id": "MJm2VR3-O7sn",
        "colab": {
          "base_uri": "https://localhost:8080/"
        },
        "outputId": "4b0ce397-87c6-441f-883e-2f2f007170c4"
      },
      "source": [
        "'''T9: Compare model metrics, R^2.'''\n",
        "# YOUR CODE HERE\n",
        "from sklearn.metrics import r2_score\n",
        "\n",
        "model_lr_r2_score= model_lr.score(X_val, y_val)\n",
        "model_r_r2_score= model_r.score(X_val, y_val)\n",
        "\n",
        "print('Linear Regression R^2:', model_lr_r2_score)\n",
        "print('Ridge Regression R^2:', model_r_r2_score)"
      ],
      "execution_count": 36,
      "outputs": [
        {
          "output_type": "stream",
          "text": [
            "Linear Regression R^2: 0.8781465011471676\n",
            "Ridge Regression R^2: 0.8727811384442674\n"
          ],
          "name": "stdout"
        }
      ]
    },
    {
      "cell_type": "markdown",
      "metadata": {
        "id": "tQHFMFCyO7so"
      },
      "source": [
        "**Task 9 Testing**"
      ]
    },
    {
      "cell_type": "code",
      "metadata": {
        "id": "eY_lG-GAO7sp"
      },
      "source": [
        "'''T9 Tests'''\n",
        "assert isinstance(model_lr_r2_score, float), '`model_lr_r2_score` is not a float. Did you assign a value to this variable?'\n",
        "assert isinstance(model_r_r2_score, float), '`model_r_r2_score` is not a float. Did you assign a value to this variable?'\n",
        "assert model_lr_r2_score <= 1, 'The maximum value for an R^2 score is 1.'\n",
        "assert model_r_r2_score <= 1, 'The maximum value for an R^2 score is 1.'"
      ],
      "execution_count": 37,
      "outputs": []
    },
    {
      "cell_type": "markdown",
      "metadata": {
        "id": "UUJPSnUsO7sr"
      },
      "source": [
        "**Task 10:** Based on the metrics above, choose the best of your two models and generate an array of predictions `y_pred` using the test set below.\n",
        "\n",
        "**Note:** Make sure that you import and clean the test set *exactly the same way* you did with the training set at the start of this notebook."
      ]
    },
    {
      "cell_type": "code",
      "metadata": {
        "id": "39JAoK2KO7ss",
        "colab": {
          "base_uri": "https://localhost:8080/"
        },
        "outputId": "36f33e75-4bab-421a-ccf7-77c38655ad02"
      },
      "source": [
        "url_test = 'https://drive.google.com/uc?export=download&id=1y9u8cOWprTjruw8E-ct1c7YaEytToqd_'\n",
        "X_test = pd.read_csv(url_test)\n",
        "\n",
        "# YOUR CODE HERE\n",
        "\n",
        "print('My predictions:', y_pred[:3])"
      ],
      "execution_count": 38,
      "outputs": [
        {
          "output_type": "stream",
          "text": [
            "My predictions: [181515.98645833333, 181515.98645833333, 181515.98645833333]\n"
          ],
          "name": "stdout"
        }
      ]
    },
    {
      "cell_type": "markdown",
      "metadata": {
        "id": "_DaAISVHO7ss"
      },
      "source": [
        "**Task 10 Testing:** There is a hidden test in the cell below. When you submit your notebook to Canvas, your test MAE will be calculated. In order to get the point for this task, your test MAE must be below 58,000.\n",
        "\n",
        "**Tip:** Use your validation MAE to estimate what your test MAE will be."
      ]
    },
    {
      "cell_type": "code",
      "metadata": {
        "id": "8gGED-aMO7st",
        "colab": {
          "base_uri": "https://localhost:8080/",
          "height": 215
        },
        "outputId": "76ced633-eb92-48cb-a0fe-86fd68e2d0ad"
      },
      "source": [
        "import numpy as np\n",
        "assert isinstance(y_pred, np.ndarray), '`y_pred` should be type `ndarray`.'\n",
        "assert y_pred.shape == (340,), '`y_pred` should be a 1-dimentional array with 340 predictions.'\n",
        "# Your test MAE will be printed out below when you submit your assignment."
      ],
      "execution_count": 39,
      "outputs": [
        {
          "output_type": "error",
          "ename": "AssertionError",
          "evalue": "ignored",
          "traceback": [
            "\u001b[0;31m---------------------------------------------------------------------------\u001b[0m",
            "\u001b[0;31mAssertionError\u001b[0m                            Traceback (most recent call last)",
            "\u001b[0;32m<ipython-input-39-920ef3e7bb34>\u001b[0m in \u001b[0;36m<module>\u001b[0;34m()\u001b[0m\n\u001b[1;32m      1\u001b[0m \u001b[0;32mimport\u001b[0m \u001b[0mnumpy\u001b[0m \u001b[0;32mas\u001b[0m \u001b[0mnp\u001b[0m\u001b[0;34m\u001b[0m\u001b[0;34m\u001b[0m\u001b[0m\n\u001b[0;32m----> 2\u001b[0;31m \u001b[0;32massert\u001b[0m \u001b[0misinstance\u001b[0m\u001b[0;34m(\u001b[0m\u001b[0my_pred\u001b[0m\u001b[0;34m,\u001b[0m \u001b[0mnp\u001b[0m\u001b[0;34m.\u001b[0m\u001b[0mndarray\u001b[0m\u001b[0;34m)\u001b[0m\u001b[0;34m,\u001b[0m \u001b[0;34m'`y_pred` should be type `ndarray`.'\u001b[0m\u001b[0;34m\u001b[0m\u001b[0;34m\u001b[0m\u001b[0m\n\u001b[0m\u001b[1;32m      3\u001b[0m \u001b[0;32massert\u001b[0m \u001b[0my_pred\u001b[0m\u001b[0;34m.\u001b[0m\u001b[0mshape\u001b[0m \u001b[0;34m==\u001b[0m \u001b[0;34m(\u001b[0m\u001b[0;36m340\u001b[0m\u001b[0;34m,\u001b[0m\u001b[0;34m)\u001b[0m\u001b[0;34m,\u001b[0m \u001b[0;34m'`y_pred` should be a 1-dimentional array with 340 predictions.'\u001b[0m\u001b[0;34m\u001b[0m\u001b[0;34m\u001b[0m\u001b[0m\n\u001b[1;32m      4\u001b[0m \u001b[0;31m# Your test MAE will be printed out below when you submit your assignment.\u001b[0m\u001b[0;34m\u001b[0m\u001b[0;34m\u001b[0m\u001b[0;34m\u001b[0m\u001b[0m\n",
            "\u001b[0;31mAssertionError\u001b[0m: `y_pred` should be type `ndarray`."
          ]
        }
      ]
    },
    {
      "cell_type": "markdown",
      "metadata": {
        "id": "d3qvLymXO7st"
      },
      "source": [
        "**Task 11 (`stretch goal`):** There's no code to write for this task. Below is another testing cell that will calculate the MAE for your test set. In order to get the point for this task, your test MAE must be below 18,000.\n",
        "\n",
        "**Tip:** Are there any **hyperparameters** in your model that you could adjust to improve performance? "
      ]
    },
    {
      "cell_type": "code",
      "metadata": {
        "id": "4JByuZ3eO7st"
      },
      "source": [
        "assert isinstance(y_pred, np.ndarray), '`y_pred` should be type `ndarray`.'\n",
        "assert y_pred.shape == (340,), '`y_pred` should be a 1-dimentional array with 340 predictions.'\n",
        "# Your test MAE will be printed out below when you submit your assignment."
      ],
      "execution_count": null,
      "outputs": []
    },
    {
      "cell_type": "markdown",
      "metadata": {
        "id": "ZX9_A6JNO7su"
      },
      "source": [
        "## VI. Explain Model\n",
        "\n",
        "**Task 12 (`stretch goal`):** Create a horizontal barchart for your best performing model that shows the ten most important features for the model's predictions. Don't forget to label your axes!"
      ]
    },
    {
      "cell_type": "code",
      "metadata": {
        "id": "UIHdD6K6O7sv"
      },
      "source": [
        "# YOUR CODE HERE\n"
      ],
      "execution_count": null,
      "outputs": []
    }
  ]
}